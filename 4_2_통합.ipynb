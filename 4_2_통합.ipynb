{
  "cells": [
    {
      "cell_type": "markdown",
      "metadata": {
        "id": "4p06IPOk5xil"
      },
      "source": [
        "# **응급상황 자동 인식 및 응급실 연계 서비스**\n",
        "# **단계4 : 통합 - pipeline**"
      ]
    },
    {
      "cell_type": "markdown",
      "metadata": {
        "id": "HRuiqkZnuq94"
      },
      "source": [
        "## **0.미션**\n",
        "\n",
        "단계 4에서는, 단계1,2,3 에서 생성한 함수들을 모듈화하고, 단위 테스트 및 파이프라인 코드를 작성합니다."
      ]
    },
    {
      "cell_type": "markdown",
      "metadata": {
        "id": "Y_tnKlblyQak"
      },
      "source": [
        "* **미션6**\n",
        "    * 단위 테스트\n",
        "        * 각 기능(함수)에 대해 단계별로 테스트를 수행하며 오류를 해결합니다.\n",
        "    * 파이프라인 구축\n",
        "        * 단계1의 결과가 단계2 모델에 input이 되고, 모델의 예측 결과를 기반으로\n",
        "        * 응급실 추천되도록\n",
        "        * 조원들이 녹음한 음성 파일에 임의의 좌표(위도, 경도)값을 부여\n",
        "            * 음성파일 이름과 좌표를 저장하는 별도 데이터셋 생성\n",
        "        * 각 모듈을 연결하여 파이프라인 구성하는 ipynb 파일 생성\n",
        "\n"
      ]
    },
    {
      "cell_type": "markdown",
      "metadata": {
        "id": "76Pw6f64d5VU"
      },
      "source": [
        "## **1.환경설정**"
      ]
    },
    {
      "cell_type": "markdown",
      "metadata": {
        "id": "1is0ZmzXeBrA"
      },
      "source": [
        "### (1) 경로 설정\n",
        "\n",
        "구글 드라이브 연결"
      ]
    },
    {
      "cell_type": "markdown",
      "metadata": {
        "id": "xUOpvAJGGJnL"
      },
      "source": [
        "#### 1) 구글 드라이브 폴더 생성\n",
        "* 새 폴더(project6_2)를 생성하고\n",
        "* 제공 받은 파일을 업로드"
      ]
    },
    {
      "cell_type": "markdown",
      "metadata": {
        "id": "4jUC5td4GLEF"
      },
      "source": [
        "#### 2) 구글 드라이브 연결"
      ]
    },
    {
      "cell_type": "code",
      "execution_count": 1,
      "metadata": {
        "id": "_wX7xlPARSDj",
        "colab": {
          "base_uri": "https://localhost:8080/"
        },
        "outputId": "efed1df2-8b14-4709-cbb9-faff02f9803e"
      },
      "outputs": [
        {
          "output_type": "stream",
          "name": "stdout",
          "text": [
            "Mounted at /content/drive\n"
          ]
        }
      ],
      "source": [
        "from google.colab import drive\n",
        "drive.mount('/content/drive')"
      ]
    },
    {
      "cell_type": "code",
      "execution_count": 2,
      "metadata": {
        "id": "JhVujnYp4TJe"
      },
      "outputs": [],
      "source": [
        "path = '/content/drive/MyDrive/project6_2/'"
      ]
    },
    {
      "cell_type": "markdown",
      "metadata": {
        "id": "6aFiucu6evl_"
      },
      "source": [
        "### (2) 라이브러리"
      ]
    },
    {
      "cell_type": "markdown",
      "metadata": {
        "id": "06pvZvQPG4TO"
      },
      "source": [
        "#### 1) 필요한 라이브러리 설치"
      ]
    },
    {
      "cell_type": "markdown",
      "metadata": {
        "id": "9yH0bcskIzI3"
      },
      "source": [
        "* requirements.txt 파일의 [경로 복사]를 한 후,\n",
        "* 아래 경로에 붙여 넣기"
      ]
    },
    {
      "cell_type": "code",
      "execution_count": 3,
      "metadata": {
        "id": "OQVcKO7iG38A",
        "colab": {
          "base_uri": "https://localhost:8080/"
        },
        "outputId": "5406f664-21df-4aec-ad90-4dc27fb97a50"
      },
      "outputs": [
        {
          "output_type": "stream",
          "name": "stdout",
          "text": [
            "Requirement already satisfied: openai in /usr/local/lib/python3.10/dist-packages (from -r /content/drive/MyDrive/project6_2/requirements.txt (line 1)) (1.54.4)\n",
            "Collecting datasets (from -r /content/drive/MyDrive/project6_2/requirements.txt (line 2))\n",
            "  Downloading datasets-3.1.0-py3-none-any.whl.metadata (20 kB)\n",
            "Collecting haversine (from -r /content/drive/MyDrive/project6_2/requirements.txt (line 3))\n",
            "  Downloading haversine-2.8.1-py2.py3-none-any.whl.metadata (5.9 kB)\n",
            "Requirement already satisfied: anyio<5,>=3.5.0 in /usr/local/lib/python3.10/dist-packages (from openai->-r /content/drive/MyDrive/project6_2/requirements.txt (line 1)) (3.7.1)\n",
            "Requirement already satisfied: distro<2,>=1.7.0 in /usr/local/lib/python3.10/dist-packages (from openai->-r /content/drive/MyDrive/project6_2/requirements.txt (line 1)) (1.9.0)\n",
            "Requirement already satisfied: httpx<1,>=0.23.0 in /usr/local/lib/python3.10/dist-packages (from openai->-r /content/drive/MyDrive/project6_2/requirements.txt (line 1)) (0.27.2)\n",
            "Requirement already satisfied: jiter<1,>=0.4.0 in /usr/local/lib/python3.10/dist-packages (from openai->-r /content/drive/MyDrive/project6_2/requirements.txt (line 1)) (0.7.1)\n",
            "Requirement already satisfied: pydantic<3,>=1.9.0 in /usr/local/lib/python3.10/dist-packages (from openai->-r /content/drive/MyDrive/project6_2/requirements.txt (line 1)) (2.9.2)\n",
            "Requirement already satisfied: sniffio in /usr/local/lib/python3.10/dist-packages (from openai->-r /content/drive/MyDrive/project6_2/requirements.txt (line 1)) (1.3.1)\n",
            "Requirement already satisfied: tqdm>4 in /usr/local/lib/python3.10/dist-packages (from openai->-r /content/drive/MyDrive/project6_2/requirements.txt (line 1)) (4.66.6)\n",
            "Requirement already satisfied: typing-extensions<5,>=4.11 in /usr/local/lib/python3.10/dist-packages (from openai->-r /content/drive/MyDrive/project6_2/requirements.txt (line 1)) (4.12.2)\n",
            "Requirement already satisfied: filelock in /usr/local/lib/python3.10/dist-packages (from datasets->-r /content/drive/MyDrive/project6_2/requirements.txt (line 2)) (3.16.1)\n",
            "Requirement already satisfied: numpy>=1.17 in /usr/local/lib/python3.10/dist-packages (from datasets->-r /content/drive/MyDrive/project6_2/requirements.txt (line 2)) (1.26.4)\n",
            "Requirement already satisfied: pyarrow>=15.0.0 in /usr/local/lib/python3.10/dist-packages (from datasets->-r /content/drive/MyDrive/project6_2/requirements.txt (line 2)) (17.0.0)\n",
            "Collecting dill<0.3.9,>=0.3.0 (from datasets->-r /content/drive/MyDrive/project6_2/requirements.txt (line 2))\n",
            "  Downloading dill-0.3.8-py3-none-any.whl.metadata (10 kB)\n",
            "Requirement already satisfied: pandas in /usr/local/lib/python3.10/dist-packages (from datasets->-r /content/drive/MyDrive/project6_2/requirements.txt (line 2)) (2.2.2)\n",
            "Requirement already satisfied: requests>=2.32.2 in /usr/local/lib/python3.10/dist-packages (from datasets->-r /content/drive/MyDrive/project6_2/requirements.txt (line 2)) (2.32.3)\n",
            "Collecting xxhash (from datasets->-r /content/drive/MyDrive/project6_2/requirements.txt (line 2))\n",
            "  Downloading xxhash-3.5.0-cp310-cp310-manylinux_2_17_x86_64.manylinux2014_x86_64.whl.metadata (12 kB)\n",
            "Collecting multiprocess<0.70.17 (from datasets->-r /content/drive/MyDrive/project6_2/requirements.txt (line 2))\n",
            "  Downloading multiprocess-0.70.16-py310-none-any.whl.metadata (7.2 kB)\n",
            "Collecting fsspec<=2024.9.0,>=2023.1.0 (from fsspec[http]<=2024.9.0,>=2023.1.0->datasets->-r /content/drive/MyDrive/project6_2/requirements.txt (line 2))\n",
            "  Downloading fsspec-2024.9.0-py3-none-any.whl.metadata (11 kB)\n",
            "Requirement already satisfied: aiohttp in /usr/local/lib/python3.10/dist-packages (from datasets->-r /content/drive/MyDrive/project6_2/requirements.txt (line 2)) (3.11.2)\n",
            "Requirement already satisfied: huggingface-hub>=0.23.0 in /usr/local/lib/python3.10/dist-packages (from datasets->-r /content/drive/MyDrive/project6_2/requirements.txt (line 2)) (0.26.2)\n",
            "Requirement already satisfied: packaging in /usr/local/lib/python3.10/dist-packages (from datasets->-r /content/drive/MyDrive/project6_2/requirements.txt (line 2)) (24.2)\n",
            "Requirement already satisfied: pyyaml>=5.1 in /usr/local/lib/python3.10/dist-packages (from datasets->-r /content/drive/MyDrive/project6_2/requirements.txt (line 2)) (6.0.2)\n",
            "Requirement already satisfied: idna>=2.8 in /usr/local/lib/python3.10/dist-packages (from anyio<5,>=3.5.0->openai->-r /content/drive/MyDrive/project6_2/requirements.txt (line 1)) (3.10)\n",
            "Requirement already satisfied: exceptiongroup in /usr/local/lib/python3.10/dist-packages (from anyio<5,>=3.5.0->openai->-r /content/drive/MyDrive/project6_2/requirements.txt (line 1)) (1.2.2)\n",
            "Requirement already satisfied: aiohappyeyeballs>=2.3.0 in /usr/local/lib/python3.10/dist-packages (from aiohttp->datasets->-r /content/drive/MyDrive/project6_2/requirements.txt (line 2)) (2.4.3)\n",
            "Requirement already satisfied: aiosignal>=1.1.2 in /usr/local/lib/python3.10/dist-packages (from aiohttp->datasets->-r /content/drive/MyDrive/project6_2/requirements.txt (line 2)) (1.3.1)\n",
            "Requirement already satisfied: attrs>=17.3.0 in /usr/local/lib/python3.10/dist-packages (from aiohttp->datasets->-r /content/drive/MyDrive/project6_2/requirements.txt (line 2)) (24.2.0)\n",
            "Requirement already satisfied: frozenlist>=1.1.1 in /usr/local/lib/python3.10/dist-packages (from aiohttp->datasets->-r /content/drive/MyDrive/project6_2/requirements.txt (line 2)) (1.5.0)\n",
            "Requirement already satisfied: multidict<7.0,>=4.5 in /usr/local/lib/python3.10/dist-packages (from aiohttp->datasets->-r /content/drive/MyDrive/project6_2/requirements.txt (line 2)) (6.1.0)\n",
            "Requirement already satisfied: propcache>=0.2.0 in /usr/local/lib/python3.10/dist-packages (from aiohttp->datasets->-r /content/drive/MyDrive/project6_2/requirements.txt (line 2)) (0.2.0)\n",
            "Requirement already satisfied: yarl<2.0,>=1.17.0 in /usr/local/lib/python3.10/dist-packages (from aiohttp->datasets->-r /content/drive/MyDrive/project6_2/requirements.txt (line 2)) (1.17.2)\n",
            "Requirement already satisfied: async-timeout<6.0,>=4.0 in /usr/local/lib/python3.10/dist-packages (from aiohttp->datasets->-r /content/drive/MyDrive/project6_2/requirements.txt (line 2)) (4.0.3)\n",
            "Requirement already satisfied: certifi in /usr/local/lib/python3.10/dist-packages (from httpx<1,>=0.23.0->openai->-r /content/drive/MyDrive/project6_2/requirements.txt (line 1)) (2024.8.30)\n",
            "Requirement already satisfied: httpcore==1.* in /usr/local/lib/python3.10/dist-packages (from httpx<1,>=0.23.0->openai->-r /content/drive/MyDrive/project6_2/requirements.txt (line 1)) (1.0.7)\n",
            "Requirement already satisfied: h11<0.15,>=0.13 in /usr/local/lib/python3.10/dist-packages (from httpcore==1.*->httpx<1,>=0.23.0->openai->-r /content/drive/MyDrive/project6_2/requirements.txt (line 1)) (0.14.0)\n",
            "Requirement already satisfied: annotated-types>=0.6.0 in /usr/local/lib/python3.10/dist-packages (from pydantic<3,>=1.9.0->openai->-r /content/drive/MyDrive/project6_2/requirements.txt (line 1)) (0.7.0)\n",
            "Requirement already satisfied: pydantic-core==2.23.4 in /usr/local/lib/python3.10/dist-packages (from pydantic<3,>=1.9.0->openai->-r /content/drive/MyDrive/project6_2/requirements.txt (line 1)) (2.23.4)\n",
            "Requirement already satisfied: charset-normalizer<4,>=2 in /usr/local/lib/python3.10/dist-packages (from requests>=2.32.2->datasets->-r /content/drive/MyDrive/project6_2/requirements.txt (line 2)) (3.4.0)\n",
            "Requirement already satisfied: urllib3<3,>=1.21.1 in /usr/local/lib/python3.10/dist-packages (from requests>=2.32.2->datasets->-r /content/drive/MyDrive/project6_2/requirements.txt (line 2)) (2.2.3)\n",
            "Requirement already satisfied: python-dateutil>=2.8.2 in /usr/local/lib/python3.10/dist-packages (from pandas->datasets->-r /content/drive/MyDrive/project6_2/requirements.txt (line 2)) (2.8.2)\n",
            "Requirement already satisfied: pytz>=2020.1 in /usr/local/lib/python3.10/dist-packages (from pandas->datasets->-r /content/drive/MyDrive/project6_2/requirements.txt (line 2)) (2024.2)\n",
            "Requirement already satisfied: tzdata>=2022.7 in /usr/local/lib/python3.10/dist-packages (from pandas->datasets->-r /content/drive/MyDrive/project6_2/requirements.txt (line 2)) (2024.2)\n",
            "Requirement already satisfied: six>=1.5 in /usr/local/lib/python3.10/dist-packages (from python-dateutil>=2.8.2->pandas->datasets->-r /content/drive/MyDrive/project6_2/requirements.txt (line 2)) (1.16.0)\n",
            "Downloading datasets-3.1.0-py3-none-any.whl (480 kB)\n",
            "\u001b[2K   \u001b[90m━━━━━━━━━━━━━━━━━━━━━━━━━━━━━━━━━━━━━━━━\u001b[0m \u001b[32m480.6/480.6 kB\u001b[0m \u001b[31m9.4 MB/s\u001b[0m eta \u001b[36m0:00:00\u001b[0m\n",
            "\u001b[?25hDownloading haversine-2.8.1-py2.py3-none-any.whl (7.7 kB)\n",
            "Downloading dill-0.3.8-py3-none-any.whl (116 kB)\n",
            "\u001b[2K   \u001b[90m━━━━━━━━━━━━━━━━━━━━━━━━━━━━━━━━━━━━━━━━\u001b[0m \u001b[32m116.3/116.3 kB\u001b[0m \u001b[31m9.6 MB/s\u001b[0m eta \u001b[36m0:00:00\u001b[0m\n",
            "\u001b[?25hDownloading fsspec-2024.9.0-py3-none-any.whl (179 kB)\n",
            "\u001b[2K   \u001b[90m━━━━━━━━━━━━━━━━━━━━━━━━━━━━━━━━━━━━━━━━\u001b[0m \u001b[32m179.3/179.3 kB\u001b[0m \u001b[31m12.8 MB/s\u001b[0m eta \u001b[36m0:00:00\u001b[0m\n",
            "\u001b[?25hDownloading multiprocess-0.70.16-py310-none-any.whl (134 kB)\n",
            "\u001b[2K   \u001b[90m━━━━━━━━━━━━━━━━━━━━━━━━━━━━━━━━━━━━━━━━\u001b[0m \u001b[32m134.8/134.8 kB\u001b[0m \u001b[31m10.6 MB/s\u001b[0m eta \u001b[36m0:00:00\u001b[0m\n",
            "\u001b[?25hDownloading xxhash-3.5.0-cp310-cp310-manylinux_2_17_x86_64.manylinux2014_x86_64.whl (194 kB)\n",
            "\u001b[2K   \u001b[90m━━━━━━━━━━━━━━━━━━━━━━━━━━━━━━━━━━━━━━━━\u001b[0m \u001b[32m194.1/194.1 kB\u001b[0m \u001b[31m14.7 MB/s\u001b[0m eta \u001b[36m0:00:00\u001b[0m\n",
            "\u001b[?25hInstalling collected packages: xxhash, haversine, fsspec, dill, multiprocess, datasets\n",
            "  Attempting uninstall: fsspec\n",
            "    Found existing installation: fsspec 2024.10.0\n",
            "    Uninstalling fsspec-2024.10.0:\n",
            "      Successfully uninstalled fsspec-2024.10.0\n",
            "\u001b[31mERROR: pip's dependency resolver does not currently take into account all the packages that are installed. This behaviour is the source of the following dependency conflicts.\n",
            "gcsfs 2024.10.0 requires fsspec==2024.10.0, but you have fsspec 2024.9.0 which is incompatible.\u001b[0m\u001b[31m\n",
            "\u001b[0mSuccessfully installed datasets-3.1.0 dill-0.3.8 fsspec-2024.9.0 haversine-2.8.1 multiprocess-0.70.16 xxhash-3.5.0\n"
          ]
        }
      ],
      "source": [
        "# 경로 : /content/drive/MyDrive/project6_2/requirements.txt\n",
        "# 경로가 다른 경우 아래 코드의 경로 부분을 수정하세요.\n",
        "\n",
        "!pip install -r /content/drive/MyDrive/project6_2/requirements.txt"
      ]
    },
    {
      "cell_type": "markdown",
      "metadata": {
        "id": "xpXTO7gP4vyQ"
      },
      "source": [
        "#### 2) 라이브러리 로딩"
      ]
    },
    {
      "cell_type": "code",
      "execution_count": 4,
      "metadata": {
        "id": "_bx5a2MBfAt2"
      },
      "outputs": [],
      "source": [
        "#필요한 라이브러리 설치 및 불러우기\n",
        "import os\n",
        "import requests\n",
        "import xml.etree.ElementTree as ET\n",
        "import pandas as pd\n",
        "import openai\n",
        "from openai import OpenAI\n",
        "import json\n",
        "import sys\n",
        "sys.path.append(path)\n",
        "\n",
        "from transformers import AutoTokenizer, AutoModelForSequenceClassification\n",
        "\n",
        "\n",
        "# 조에서 생성한 모듈 불러오기 -------------\n",
        "from emergency import miniproject6"
      ]
    },
    {
      "cell_type": "code",
      "source": [
        "%reload_ext autoreload\n",
        "from emergency import miniproject6"
      ],
      "metadata": {
        "id": "sUrUKctgOZWd"
      },
      "execution_count": 5,
      "outputs": []
    },
    {
      "cell_type": "markdown",
      "metadata": {
        "id": "l-qzK-Egog5E"
      },
      "source": [
        "## **2. 단위 테스트**\n",
        "\n",
        "* 세부사항 : 아래 단계별로 데이터가 순차적으로 처리되도록 단위 테스트를 진행합니다."
      ]
    },
    {
      "cell_type": "markdown",
      "source": [
        "###\n",
        " (0) class 선언"
      ],
      "metadata": {
        "id": "UaPlVK4dIEsR"
      }
    },
    {
      "cell_type": "code",
      "source": [
        "# class 선언\n",
        "project_class = miniproject6()"
      ],
      "metadata": {
        "colab": {
          "base_uri": "https://localhost:8080/"
        },
        "id": "nUaRCfleIJEx",
        "outputId": "347787f8-20b0-4f91-f47c-f8e3e455364f"
      },
      "execution_count": 5,
      "outputs": [
        {
          "output_type": "stream",
          "name": "stdout",
          "text": [
            "응급실 데이터 필요합니다\n"
          ]
        }
      ]
    },
    {
      "cell_type": "markdown",
      "metadata": {
        "id": "Y2h3kvuJekAJ"
      },
      "source": [
        "### (1) open ai key 등록"
      ]
    },
    {
      "cell_type": "code",
      "execution_count": 6,
      "metadata": {
        "id": "fCh3jcGOekAK"
      },
      "outputs": [],
      "source": [
        "project_class.load_key_file(api_path='/content/drive/MyDrive/project6_2/api_key.txt')"
      ]
    },
    {
      "cell_type": "markdown",
      "metadata": {
        "id": "jn3tn-GuK0My"
      },
      "source": [
        "### (2) audio to text"
      ]
    },
    {
      "cell_type": "code",
      "execution_count": 7,
      "metadata": {
        "id": "2jcNEwGveebo",
        "colab": {
          "base_uri": "https://localhost:8080/"
        },
        "outputId": "0796cde2-67ab-47e3-b932-7c73cbe12cef"
      },
      "outputs": [
        {
          "output_type": "stream",
          "name": "stdout",
          "text": [
            "119죠. 제가 지금 열이 열이 올랐어요. 몇 도냐면은 38도 정도 돼요. 머리가 아프고 좀 띵한 것 같아요. 우한이 좀 들어요. 어떻게 해야 할까요?\n",
            "\n"
          ]
        }
      ],
      "source": [
        "audio_text = project_class.audio_to_text(path+\"/audio/audio2.mp3\")\n",
        "print(audio_text)"
      ]
    },
    {
      "cell_type": "markdown",
      "metadata": {
        "id": "DnyVoEvqe81v"
      },
      "source": [
        "### (3) text summary"
      ]
    },
    {
      "cell_type": "code",
      "execution_count": 8,
      "metadata": {
        "id": "2vVlh-oXe81v",
        "colab": {
          "base_uri": "https://localhost:8080/"
        },
        "outputId": "5ba59fa2-1e80-4d07-b28b-20d08489ba8b"
      },
      "outputs": [
        {
          "output_type": "stream",
          "name": "stdout",
          "text": [
            "고열(38도) 및 두통, 어지러움 등 증상이 있어 응급실 방문이 필요합니다.\n"
          ]
        }
      ],
      "source": [
        "summary = eval(project_class.text_to_summary(audio_text))[\"summary\"]\n",
        "print(summary)"
      ]
    },
    {
      "cell_type": "markdown",
      "metadata": {
        "id": "Q1WvCVInfMQw"
      },
      "source": [
        "### (4) 응급실 등급분류"
      ]
    },
    {
      "cell_type": "code",
      "source": [
        "# 모델 불러오기\n",
        "# project_class.load_bert_model(path+\"fine_tuned_bert_added_10/\")\n",
        "# project_class.load_tokenizer(path+\"fine_tuned_bert_added_10/\")\n",
        "\n",
        "# prediction 테스트\n",
        "emergency = project_class.model_prediction(summary)[0] + 1\n",
        "\n",
        "if emergency < 4:\n",
        "  print(\"응급실을 가셔야 합니다\")\n",
        "else:\n",
        "  print(\"응급실 안가도 될 것 같습니다\")"
      ],
      "metadata": {
        "colab": {
          "base_uri": "https://localhost:8080/"
        },
        "id": "UY487kwBIp0a",
        "outputId": "12db5069-7d98-4d3c-c48e-084ddbcc2522"
      },
      "execution_count": 14,
      "outputs": [
        {
          "output_type": "stream",
          "name": "stdout",
          "text": [
            "응급실을 가셔야 합니다\n"
          ]
        }
      ]
    },
    {
      "cell_type": "markdown",
      "metadata": {
        "id": "lL0Np_CFrA5g"
      },
      "source": [
        "### (5) 응급실추천"
      ]
    },
    {
      "cell_type": "code",
      "execution_count": 16,
      "metadata": {
        "id": "MwsOD-DEr_4Q",
        "colab": {
          "base_uri": "https://localhost:8080/"
        },
        "outputId": "0a616b02-adc2-4d21-daa9-1c13e6f5e245"
      },
      "outputs": [
        {
          "output_type": "stream",
          "name": "stdout",
          "text": [
            "응급실 ㄱㄱ\n",
            "주변 응급실 총 개수: 90\n",
            "병원 이름: 분당서울대학교병원 // 주소: 경기도 성남시 분당구 구미로173번길 82 (구미동, 분당서울대학교병원) // 전화번호: 031-787-2114 // 응급실번호: 031-787-3119 // 거리: 2.773km\n",
            "병원 이름: 대진의료재단분당제생병원 // 주소: 경기도 성남시 분당구 서현로180번길 20 (서현동) // 전화번호: 031-779-0114 // 응급실번호: 031-779-0119 // 거리: 4.372km\n",
            "병원 이름: 국군수도병원 // 주소: 경기도 성남시 분당구 새마을로177번길 81 (율동) // 전화번호: 031-725-6075 // 응급실번호: 031-725-6119 // 거리: 6.12km\n"
          ]
        }
      ],
      "source": [
        "project_class.load_maps_key_file(path=path+'map_key.txt')\n",
        "\n",
        "if emergency < 4:\n",
        "  print(\"응급실 ㄱㄱ\")\n",
        "  project_class.recommend_hospital3(37.358827, 127.114919) #KT 본사 위치\n",
        "else:\n",
        "  print(\"응급실 안가도 될 것 같습니다\")"
      ]
    },
    {
      "cell_type": "markdown",
      "metadata": {
        "id": "D73P_NjZq585"
      },
      "source": [
        "## **3. 파이프라인**\n",
        "\n",
        "* 세부사항\n",
        "    * [2. 단계별 테스트] 의 내용을 순차적으로 정리합니다.\n",
        "        * 데이터 처리 전 준비작업 : 한번 실행하면 되는 영역\n",
        "            * 키, 데이터로딩\n",
        "            * 모델/토크나이저 로딩\n",
        "        * 입력값이 들어 왔을 때 출력값까지 처리되는 영역"
      ]
    },
    {
      "cell_type": "code",
      "source": [
        "def project_pipeline(audio_path=None, latitude=None, longitude=None):\n",
        "  # class 선언\n",
        "  project_class = miniproject6()\n",
        "\n",
        "  # 필요한 key값 불러오기\n",
        "  project_class.load_key_file(api_path=api_path)\n",
        "  project_class.load_maps_key_file(path=map_key_path)\n",
        "\n",
        "  # 모델 불러오기\n",
        "  project_class.load_bert_model(model_path)\n",
        "  project_class.load_tokenizer(model_path)\n",
        "\n",
        "  # whisper 테스트\n",
        "  if audio_path:\n",
        "    try:\n",
        "      text = project_class.audio_to_text(audio_path)\n",
        "    except:\n",
        "      raise ValueError(\"분석할 오디오 파일이 존재하지 않습니다!\")\n",
        "  else:\n",
        "    raise ValueError(\"분석할 대상이 없어요!\")\n",
        "  print(\"입력된 텍스트:\", text)\n",
        "\n",
        "  summary = project_class.text_to_summary(text)\n",
        "  print(\"요약된 텍스트:\", summary)\n",
        "\n",
        "  # prediction 테스트\n",
        "  emergency = project_class.model_prediction(summary)[0] + 1\n",
        "  print(f\"KTAS {emergency}단계 입니다.\")\n",
        "\n",
        "  if emergency < 4:\n",
        "    print(\"근처의 응급실을 확인중입니다.\")\n",
        "    if latitude and longitude:\n",
        "      project_class.recommend_hospital3(latitude, longitude)\n",
        "    else:\n",
        "      # 위치를 자체적으로 파악하여 추천\n",
        "      print(\"위치를 파악하고 있습니다.\")\n",
        "  else:\n",
        "    print('응급실 가실 필요가 없습니다!')"
      ],
      "metadata": {
        "id": "i3lnFE0yejoE"
      },
      "execution_count": 6,
      "outputs": []
    },
    {
      "cell_type": "code",
      "source": [
        "api_path='/content/drive/MyDrive/project6_2/api_key.txt'\n",
        "map_key_path=path+'map_key.txt'\n",
        "model_path=path+\"fine_tuned_bert2/\"\n",
        "\n",
        "# 오디오 파일로 확인할 경우\n",
        "project_pipeline(\n",
        "    audio_path=path+\"/audio/jihong1.m4a\",\n",
        "    latitude=37.358827,\n",
        "    longitude=127.114919,\n",
        ")"
      ],
      "metadata": {
        "colab": {
          "base_uri": "https://localhost:8080/"
        },
        "id": "2jbKW8ndexJW",
        "outputId": "63a9609b-4246-45e4-d1b6-e0406bd8707a"
      },
      "execution_count": 9,
      "outputs": [
        {
          "output_type": "stream",
          "name": "stdout",
          "text": [
            "입력된 텍스트: 119죠. 지금 사람이 의식이 없습니다. 전혀 반응이 없고 깨워도 눈을 뜨지 않아요. 숨 쉬는 것도 불규칙하거나 약한 것 같습니다. 매우 위급한 상황입니다. 빨리 구급차를 보내주세요.\n",
            "\n",
            "요약된 텍스트: 의식이 없고 반응이 없으며 눈을 뜨지 않고 숨도 약하고 불규칙한 상태인 위급한 환자.\n",
            "KTAS 1단계 입니다.\n",
            "근처의 응급실을 확인중입니다.\n",
            "주변 응급실 총 개수: 90\n",
            "병원 이름: 대진의료재단분당제생병원 // 주소: 경기도 성남시 분당구 서현로180번길 20 (서현동) // 전화번호: 031-779-0114 // 응급실번호: 031-779-0119 // 거리: 5.013km // 소요시간: 0시간 13분\n",
            "병원 이름: 국군수도병원 // 주소: 경기도 성남시 분당구 새마을로177번길 81 (율동) // 전화번호: 031-725-6075 // 응급실번호: 031-725-6119 // 거리: 6.12km // 소요시간: 0시간 15분\n",
            "병원 이름: 차의과학대학교분당차병원 // 주소: 경기도 성남시 분당구 야탑로 59 (야탑동) // 전화번호: 031-780-5000 // 응급실번호: 031-780-5840 // 거리: 7.039km // 소요시간: 0시간 18분\n"
          ]
        }
      ]
    },
    {
      "cell_type": "code",
      "source": [
        "api_path='/content/drive/MyDrive/project6_2/api_key.txt'\n",
        "map_key_path=path+'map_key.txt'\n",
        "model_path=path+\"fine_tuned_bert2/\"\n",
        "\n",
        "# 오디오 파일로 확인할 경우\n",
        "project_pipeline(\n",
        "    audio_path=path+\"/audio/jihong2.m4a\",\n",
        "    latitude=37.358827,\n",
        "    longitude=127.114919,\n",
        ")"
      ],
      "metadata": {
        "colab": {
          "base_uri": "https://localhost:8080/"
        },
        "id": "aef-7lZXsdc8",
        "outputId": "3ba1214a-b4c7-421f-e9b5-df45f4896f7b"
      },
      "execution_count": 11,
      "outputs": [
        {
          "output_type": "stream",
          "name": "stdout",
          "text": [
            "입력된 텍스트: 119죠. 지금 옆에 한 사람이 계획적으로 자살을 시도한 것 같습니다. 의식은 있지만 매우 불안정하고 위험한 상태입니다. 지금 상황이 매우 심각해서 신속한 도움과 응급 조치가 필요합니다. 빠르게 와주실 수 있나요?\n",
            "\n",
            "요약된 텍스트: 계획적으로 자살을 시도한 환자로 매우 불안정하고 위험한 상태인 환자입니다.\n",
            "KTAS 2단계 입니다.\n",
            "근처의 응급실을 확인중입니다.\n",
            "주변 응급실 총 개수: 90\n",
            "병원 이름: 대진의료재단분당제생병원 // 주소: 경기도 성남시 분당구 서현로180번길 20 (서현동) // 전화번호: 031-779-0114 // 응급실번호: 031-779-0119 // 거리: 5.013km // 소요시간: 0시간 13분\n",
            "병원 이름: 국군수도병원 // 주소: 경기도 성남시 분당구 새마을로177번길 81 (율동) // 전화번호: 031-725-6075 // 응급실번호: 031-725-6119 // 거리: 6.12km // 소요시간: 0시간 15분\n",
            "병원 이름: 차의과학대학교분당차병원 // 주소: 경기도 성남시 분당구 야탑로 59 (야탑동) // 전화번호: 031-780-5000 // 응급실번호: 031-780-5840 // 거리: 7.039km // 소요시간: 0시간 18분\n"
          ]
        }
      ]
    },
    {
      "cell_type": "code",
      "source": [
        "api_path='/content/drive/MyDrive/project6_2/api_key.txt'\n",
        "map_key_path=path+'map_key.txt'\n",
        "model_path=path+\"fine_tuned_bert2/\"\n",
        "\n",
        "# 오디오 파일로 확인할 경우\n",
        "project_pipeline(\n",
        "    audio_path=path+\"/audio/jihong3.m4a\",\n",
        "    latitude=37.358827,\n",
        "    longitude=127.114919,\n",
        ")"
      ],
      "metadata": {
        "colab": {
          "base_uri": "https://localhost:8080/"
        },
        "id": "lffiY2cMs-tK",
        "outputId": "d2e01a74-b657-4d70-a01b-3f5ac88fb051"
      },
      "execution_count": 17,
      "outputs": [
        {
          "output_type": "stream",
          "name": "stdout",
          "text": [
            "입력된 텍스트: 안녕하세요. 119죠? 지금 숨을 쉬는 게 약간 힘들고 호흡이 조금 곤란한 상태예요. 크게 심각하지는 않지만 숨이 차고 답답한 느낌이 있습니다. 병원에 가야 할지 조언을 부탁드려요.\n",
            "\n",
            "요약된 텍스트: 호흡이 조금 힘들고 곤란하며 숨이 차고 답답한 환자입니다.\n",
            "KTAS 3단계 입니다.\n",
            "근처의 응급실을 확인중입니다.\n",
            "주변 응급실 총 개수: 90\n",
            "병원 이름: 대진의료재단분당제생병원 // 주소: 경기도 성남시 분당구 서현로180번길 20 (서현동) // 전화번호: 031-779-0114 // 응급실번호: 031-779-0119 // 거리: 5.013km // 소요시간: 0시간 13분\n",
            "병원 이름: 국군수도병원 // 주소: 경기도 성남시 분당구 새마을로177번길 81 (율동) // 전화번호: 031-725-6075 // 응급실번호: 031-725-6119 // 거리: 6.12km // 소요시간: 0시간 15분\n",
            "병원 이름: 차의과학대학교분당차병원 // 주소: 경기도 성남시 분당구 야탑로 59 (야탑동) // 전화번호: 031-780-5000 // 응급실번호: 031-780-5840 // 거리: 7.68km // 소요시간: 0시간 17분\n"
          ]
        }
      ]
    },
    {
      "cell_type": "code",
      "source": [
        "api_path='/content/drive/MyDrive/project6_2/api_key.txt'\n",
        "map_key_path=path+'map_key.txt'\n",
        "model_path=path+\"fine_tuned_bert2/\"\n",
        "\n",
        "# 오디오 파일로 확인할 경우\n",
        "project_pipeline(\n",
        "    audio_path=path+\"/audio/jihong5.m4a\",\n",
        "    latitude=37.358827,\n",
        "    longitude=127.114919,\n",
        ")"
      ],
      "metadata": {
        "colab": {
          "base_uri": "https://localhost:8080/"
        },
        "id": "Ki6tBlcTf5yH",
        "outputId": "c772bcc2-d009-45c9-8ab0-4ef1ce5ebdb5"
      },
      "execution_count": 16,
      "outputs": [
        {
          "output_type": "stream",
          "name": "stdout",
          "text": [
            "입력된 텍스트: 안녕하세요. 119죠? 제가 만성적인 환각 증상이 있어서 지금 약간 불안하고 초조한 상태입니다. 증상이 심하지는 않지만 마음이 불안정해지고 조금 불편한 느낌이 있습니다. 응급상황은 아닌 것 같은데 조언이나 도움이 필요할 것 같습니다.\n",
            "\n",
            "요약된 텍스트: 만성적인 환각 증상을 가진 불안하고 초조한 환자\n",
            "KTAS 4단계 입니다.\n",
            "응급실 가실 필요가 없습니다!\n"
          ]
        }
      ]
    },
    {
      "cell_type": "code",
      "source": [],
      "metadata": {
        "id": "84Nnsbw6QisV"
      },
      "execution_count": null,
      "outputs": []
    }
  ],
  "metadata": {
    "colab": {
      "provenance": []
    },
    "kernelspec": {
      "display_name": "Python 3",
      "name": "python3"
    },
    "language_info": {
      "name": "python"
    }
  },
  "nbformat": 4,
  "nbformat_minor": 0
}